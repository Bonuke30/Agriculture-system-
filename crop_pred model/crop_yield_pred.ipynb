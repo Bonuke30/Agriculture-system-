{
  "cells": [
    {
      "cell_type": "markdown",
      "source": [
        "**Importing modules**\n",
        "\n",
        "---\n",
        "\n"
      ],
      "metadata": {
        "id": "79YesZXZmVl9"
      }
    },
    {
      "cell_type": "code",
      "execution_count": 46,
      "metadata": {
        "id": "E99x28SONQm4"
      },
      "outputs": [],
      "source": [
        "import pandas as pd\n",
        "import numpy as np\n",
        "from sklearn.ensemble import RandomForestRegressor\n",
        "from sklearn.model_selection import train_test_split\n",
        "from sklearn.metrics import mean_absolute_error\n",
        "#from sklearn.metrics import mean_squared_error\n",
        "from sklearn.preprocessing import LabelEncoder\n",
        "l1=LabelEncoder()\n",
        "import seaborn as sns\n"
      ]
    },
    {
      "cell_type": "markdown",
      "source": [
        "**Data Processing**\n",
        "\n",
        "---\n",
        "\n"
      ],
      "metadata": {
        "id": "L_0P3BcOmn4a"
      }
    },
    {
      "cell_type": "code",
      "execution_count": 13,
      "metadata": {
        "id": "jJEUgYhBNvx5"
      },
      "outputs": [],
      "source": [
        "data1= pd.read_csv(\"https://raw.githubusercontent.com/Kirti-kn/AgroInOne/master/crop_pred%20model/APY.csv\")\n",
        "data2= pd.read_csv(\"https://raw.githubusercontent.com/Kirti-kn/AgroInOne/master/crop_pred%20model/APY.csv\")"
      ]
    },
    {
      "cell_type": "code",
      "execution_count": 3,
      "metadata": {
        "colab": {
          "base_uri": "https://localhost:8080/",
          "height": 363
        },
        "id": "GUUm7JhUbP-A",
        "outputId": "565a6c86-6c78-4df9-ed20-5cc2d308eb39"
      },
      "outputs": [
        {
          "output_type": "execute_result",
          "data": {
            "text/plain": [
              "                        State District       Crop  Crop_Year       Season  \\\n",
              "0  Andaman and Nicobar Island  NICOBARS  Arecanut       2007  Kharif        \n",
              "1  Andaman and Nicobar Island  NICOBARS  Arecanut       2007  Rabi          \n",
              "2  Andaman and Nicobar Island  NICOBARS  Arecanut       2008  Autumn        \n",
              "3  Andaman and Nicobar Island  NICOBARS  Arecanut       2008  Summer        \n",
              "4  Andaman and Nicobar Island  NICOBARS  Arecanut       2009  Autumn        \n",
              "5  Andaman and Nicobar Island  NICOBARS  Arecanut       2009  Summer        \n",
              "6  Andaman and Nicobar Island  NICOBARS  Arecanut       2000  Kharif        \n",
              "7  Andaman and Nicobar Island  NICOBARS  Arecanut       2001  Kharif        \n",
              "8  Andaman and Nicobar Island  NICOBARS  Arecanut       2002  Whole Year    \n",
              "9  Andaman and Nicobar Island  NICOBARS  Arecanut       2003  Whole Year    \n",
              "\n",
              "    Area   Production  Yield  \n",
              "0  2439.6      3415.0   1.40  \n",
              "1  1626.4      2277.0   1.40  \n",
              "2  4147.0      3060.0   0.74  \n",
              "3  4147.0      2660.0   0.64  \n",
              "4  4153.0      3120.0   0.75  \n",
              "5  4153.0      2080.0   0.50  \n",
              "6  1254.0      2000.0   1.59  \n",
              "7  1254.0      2061.0   1.64  \n",
              "8  1258.0      2083.0   1.66  \n",
              "9  1261.0      1525.0   1.21  "
            ],
            "text/html": [
              "\n",
              "  <div id=\"df-3a26ea1b-7956-4792-806d-5a12a7b5fc2d\">\n",
              "    <div class=\"colab-df-container\">\n",
              "      <div>\n",
              "<style scoped>\n",
              "    .dataframe tbody tr th:only-of-type {\n",
              "        vertical-align: middle;\n",
              "    }\n",
              "\n",
              "    .dataframe tbody tr th {\n",
              "        vertical-align: top;\n",
              "    }\n",
              "\n",
              "    .dataframe thead th {\n",
              "        text-align: right;\n",
              "    }\n",
              "</style>\n",
              "<table border=\"1\" class=\"dataframe\">\n",
              "  <thead>\n",
              "    <tr style=\"text-align: right;\">\n",
              "      <th></th>\n",
              "      <th>State</th>\n",
              "      <th>District</th>\n",
              "      <th>Crop</th>\n",
              "      <th>Crop_Year</th>\n",
              "      <th>Season</th>\n",
              "      <th>Area</th>\n",
              "      <th>Production</th>\n",
              "      <th>Yield</th>\n",
              "    </tr>\n",
              "  </thead>\n",
              "  <tbody>\n",
              "    <tr>\n",
              "      <th>0</th>\n",
              "      <td>Andaman and Nicobar Island</td>\n",
              "      <td>NICOBARS</td>\n",
              "      <td>Arecanut</td>\n",
              "      <td>2007</td>\n",
              "      <td>Kharif</td>\n",
              "      <td>2439.6</td>\n",
              "      <td>3415.0</td>\n",
              "      <td>1.40</td>\n",
              "    </tr>\n",
              "    <tr>\n",
              "      <th>1</th>\n",
              "      <td>Andaman and Nicobar Island</td>\n",
              "      <td>NICOBARS</td>\n",
              "      <td>Arecanut</td>\n",
              "      <td>2007</td>\n",
              "      <td>Rabi</td>\n",
              "      <td>1626.4</td>\n",
              "      <td>2277.0</td>\n",
              "      <td>1.40</td>\n",
              "    </tr>\n",
              "    <tr>\n",
              "      <th>2</th>\n",
              "      <td>Andaman and Nicobar Island</td>\n",
              "      <td>NICOBARS</td>\n",
              "      <td>Arecanut</td>\n",
              "      <td>2008</td>\n",
              "      <td>Autumn</td>\n",
              "      <td>4147.0</td>\n",
              "      <td>3060.0</td>\n",
              "      <td>0.74</td>\n",
              "    </tr>\n",
              "    <tr>\n",
              "      <th>3</th>\n",
              "      <td>Andaman and Nicobar Island</td>\n",
              "      <td>NICOBARS</td>\n",
              "      <td>Arecanut</td>\n",
              "      <td>2008</td>\n",
              "      <td>Summer</td>\n",
              "      <td>4147.0</td>\n",
              "      <td>2660.0</td>\n",
              "      <td>0.64</td>\n",
              "    </tr>\n",
              "    <tr>\n",
              "      <th>4</th>\n",
              "      <td>Andaman and Nicobar Island</td>\n",
              "      <td>NICOBARS</td>\n",
              "      <td>Arecanut</td>\n",
              "      <td>2009</td>\n",
              "      <td>Autumn</td>\n",
              "      <td>4153.0</td>\n",
              "      <td>3120.0</td>\n",
              "      <td>0.75</td>\n",
              "    </tr>\n",
              "    <tr>\n",
              "      <th>5</th>\n",
              "      <td>Andaman and Nicobar Island</td>\n",
              "      <td>NICOBARS</td>\n",
              "      <td>Arecanut</td>\n",
              "      <td>2009</td>\n",
              "      <td>Summer</td>\n",
              "      <td>4153.0</td>\n",
              "      <td>2080.0</td>\n",
              "      <td>0.50</td>\n",
              "    </tr>\n",
              "    <tr>\n",
              "      <th>6</th>\n",
              "      <td>Andaman and Nicobar Island</td>\n",
              "      <td>NICOBARS</td>\n",
              "      <td>Arecanut</td>\n",
              "      <td>2000</td>\n",
              "      <td>Kharif</td>\n",
              "      <td>1254.0</td>\n",
              "      <td>2000.0</td>\n",
              "      <td>1.59</td>\n",
              "    </tr>\n",
              "    <tr>\n",
              "      <th>7</th>\n",
              "      <td>Andaman and Nicobar Island</td>\n",
              "      <td>NICOBARS</td>\n",
              "      <td>Arecanut</td>\n",
              "      <td>2001</td>\n",
              "      <td>Kharif</td>\n",
              "      <td>1254.0</td>\n",
              "      <td>2061.0</td>\n",
              "      <td>1.64</td>\n",
              "    </tr>\n",
              "    <tr>\n",
              "      <th>8</th>\n",
              "      <td>Andaman and Nicobar Island</td>\n",
              "      <td>NICOBARS</td>\n",
              "      <td>Arecanut</td>\n",
              "      <td>2002</td>\n",
              "      <td>Whole Year</td>\n",
              "      <td>1258.0</td>\n",
              "      <td>2083.0</td>\n",
              "      <td>1.66</td>\n",
              "    </tr>\n",
              "    <tr>\n",
              "      <th>9</th>\n",
              "      <td>Andaman and Nicobar Island</td>\n",
              "      <td>NICOBARS</td>\n",
              "      <td>Arecanut</td>\n",
              "      <td>2003</td>\n",
              "      <td>Whole Year</td>\n",
              "      <td>1261.0</td>\n",
              "      <td>1525.0</td>\n",
              "      <td>1.21</td>\n",
              "    </tr>\n",
              "  </tbody>\n",
              "</table>\n",
              "</div>\n",
              "      <button class=\"colab-df-convert\" onclick=\"convertToInteractive('df-3a26ea1b-7956-4792-806d-5a12a7b5fc2d')\"\n",
              "              title=\"Convert this dataframe to an interactive table.\"\n",
              "              style=\"display:none;\">\n",
              "        \n",
              "  <svg xmlns=\"http://www.w3.org/2000/svg\" height=\"24px\"viewBox=\"0 0 24 24\"\n",
              "       width=\"24px\">\n",
              "    <path d=\"M0 0h24v24H0V0z\" fill=\"none\"/>\n",
              "    <path d=\"M18.56 5.44l.94 2.06.94-2.06 2.06-.94-2.06-.94-.94-2.06-.94 2.06-2.06.94zm-11 1L8.5 8.5l.94-2.06 2.06-.94-2.06-.94L8.5 2.5l-.94 2.06-2.06.94zm10 10l.94 2.06.94-2.06 2.06-.94-2.06-.94-.94-2.06-.94 2.06-2.06.94z\"/><path d=\"M17.41 7.96l-1.37-1.37c-.4-.4-.92-.59-1.43-.59-.52 0-1.04.2-1.43.59L10.3 9.45l-7.72 7.72c-.78.78-.78 2.05 0 2.83L4 21.41c.39.39.9.59 1.41.59.51 0 1.02-.2 1.41-.59l7.78-7.78 2.81-2.81c.8-.78.8-2.07 0-2.86zM5.41 20L4 18.59l7.72-7.72 1.47 1.35L5.41 20z\"/>\n",
              "  </svg>\n",
              "      </button>\n",
              "      \n",
              "  <style>\n",
              "    .colab-df-container {\n",
              "      display:flex;\n",
              "      flex-wrap:wrap;\n",
              "      gap: 12px;\n",
              "    }\n",
              "\n",
              "    .colab-df-convert {\n",
              "      background-color: #E8F0FE;\n",
              "      border: none;\n",
              "      border-radius: 50%;\n",
              "      cursor: pointer;\n",
              "      display: none;\n",
              "      fill: #1967D2;\n",
              "      height: 32px;\n",
              "      padding: 0 0 0 0;\n",
              "      width: 32px;\n",
              "    }\n",
              "\n",
              "    .colab-df-convert:hover {\n",
              "      background-color: #E2EBFA;\n",
              "      box-shadow: 0px 1px 2px rgba(60, 64, 67, 0.3), 0px 1px 3px 1px rgba(60, 64, 67, 0.15);\n",
              "      fill: #174EA6;\n",
              "    }\n",
              "\n",
              "    [theme=dark] .colab-df-convert {\n",
              "      background-color: #3B4455;\n",
              "      fill: #D2E3FC;\n",
              "    }\n",
              "\n",
              "    [theme=dark] .colab-df-convert:hover {\n",
              "      background-color: #434B5C;\n",
              "      box-shadow: 0px 1px 3px 1px rgba(0, 0, 0, 0.15);\n",
              "      filter: drop-shadow(0px 1px 2px rgba(0, 0, 0, 0.3));\n",
              "      fill: #FFFFFF;\n",
              "    }\n",
              "  </style>\n",
              "\n",
              "      <script>\n",
              "        const buttonEl =\n",
              "          document.querySelector('#df-3a26ea1b-7956-4792-806d-5a12a7b5fc2d button.colab-df-convert');\n",
              "        buttonEl.style.display =\n",
              "          google.colab.kernel.accessAllowed ? 'block' : 'none';\n",
              "\n",
              "        async function convertToInteractive(key) {\n",
              "          const element = document.querySelector('#df-3a26ea1b-7956-4792-806d-5a12a7b5fc2d');\n",
              "          const dataTable =\n",
              "            await google.colab.kernel.invokeFunction('convertToInteractive',\n",
              "                                                     [key], {});\n",
              "          if (!dataTable) return;\n",
              "\n",
              "          const docLinkHtml = 'Like what you see? Visit the ' +\n",
              "            '<a target=\"_blank\" href=https://colab.research.google.com/notebooks/data_table.ipynb>data table notebook</a>'\n",
              "            + ' to learn more about interactive tables.';\n",
              "          element.innerHTML = '';\n",
              "          dataTable['output_type'] = 'display_data';\n",
              "          await google.colab.output.renderOutput(dataTable, element);\n",
              "          const docLink = document.createElement('div');\n",
              "          docLink.innerHTML = docLinkHtml;\n",
              "          element.appendChild(docLink);\n",
              "        }\n",
              "      </script>\n",
              "    </div>\n",
              "  </div>\n",
              "  "
            ]
          },
          "metadata": {},
          "execution_count": 3
        }
      ],
      "source": [
        "data1.head(10)"
      ]
    },
    {
      "cell_type": "code",
      "execution_count": 4,
      "metadata": {
        "colab": {
          "base_uri": "https://localhost:8080/"
        },
        "id": "mTRCgxuqR9pp",
        "outputId": "0a52510b-c75e-4508-92dc-82b73f7a673d"
      },
      "outputs": [
        {
          "output_type": "stream",
          "name": "stdout",
          "text": [
            "Index(['State', 'District ', 'Crop', 'Crop_Year', 'Season', 'Area ',\n",
            "       'Production', 'Yield'],\n",
            "      dtype='object')\n"
          ]
        }
      ],
      "source": [
        "print(data1.columns)"
      ]
    },
    {
      "cell_type": "markdown",
      "source": [
        "**Checking Null Columns**\n",
        "\n",
        "---\n",
        "\n"
      ],
      "metadata": {
        "id": "JkITiLmBm6-t"
      }
    },
    {
      "cell_type": "code",
      "execution_count": 5,
      "metadata": {
        "colab": {
          "base_uri": "https://localhost:8080/"
        },
        "id": "cyuucg6CbTRn",
        "outputId": "3da6fafb-9a7b-4da0-f344-f570fb870cbe"
      },
      "outputs": [
        {
          "output_type": "execute_result",
          "data": {
            "text/plain": [
              "State            0\n",
              "District         0\n",
              "Crop             9\n",
              "Crop_Year        0\n",
              "Season           0\n",
              "Area             0\n",
              "Production    4948\n",
              "Yield            0\n",
              "dtype: int64"
            ]
          },
          "metadata": {},
          "execution_count": 5
        }
      ],
      "source": [
        "data1.isnull().sum()"
      ]
    },
    {
      "cell_type": "markdown",
      "source": [
        "**Filling Null columns with the average/mean**\n",
        "\n",
        "---\n",
        "\n"
      ],
      "metadata": {
        "id": "Dzfcuud9nBq3"
      }
    },
    {
      "cell_type": "code",
      "execution_count": 15,
      "metadata": {
        "id": "38SNjroBc45x"
      },
      "outputs": [],
      "source": [
        "mn=round(data1[\"Production\"].mean(),2)\n",
        "data1[\"Production\"].fillna(mn,inplace=True)\n",
        "data1[\"Crop\"].fillna(\"Wheat\",inplace=True)\n",
        "data2[\"Production\"].fillna(mn,inplace=True)\n",
        "data2[\"Crop\"].fillna(\"Wheat\",inplace=True)"
      ]
    },
    {
      "cell_type": "code",
      "execution_count": 16,
      "metadata": {
        "colab": {
          "base_uri": "https://localhost:8080/"
        },
        "id": "R9G8iotpd-vz",
        "outputId": "f078b205-d6a3-43d6-aaed-9cd803c7cb79"
      },
      "outputs": [
        {
          "output_type": "execute_result",
          "data": {
            "text/plain": [
              "State         False\n",
              "District      False\n",
              "Crop          False\n",
              "Crop_Year     False\n",
              "Season        False\n",
              "Area          False\n",
              "Production    False\n",
              "Yield         False\n",
              "dtype: bool"
            ]
          },
          "metadata": {},
          "execution_count": 16
        }
      ],
      "source": [
        "data1.isnull().any()"
      ]
    },
    {
      "cell_type": "code",
      "source": [
        "data2.head()"
      ],
      "metadata": {
        "colab": {
          "base_uri": "https://localhost:8080/",
          "height": 206
        },
        "id": "biKn2wmmO9Hj",
        "outputId": "81eeb572-2569-4a11-a5b4-196518df4c74"
      },
      "execution_count": 14,
      "outputs": [
        {
          "output_type": "execute_result",
          "data": {
            "text/plain": [
              "                        State District       Crop  Crop_Year       Season  \\\n",
              "0  Andaman and Nicobar Island  NICOBARS  Arecanut       2007  Kharif        \n",
              "1  Andaman and Nicobar Island  NICOBARS  Arecanut       2007  Rabi          \n",
              "2  Andaman and Nicobar Island  NICOBARS  Arecanut       2008  Autumn        \n",
              "3  Andaman and Nicobar Island  NICOBARS  Arecanut       2008  Summer        \n",
              "4  Andaman and Nicobar Island  NICOBARS  Arecanut       2009  Autumn        \n",
              "\n",
              "    Area   Production  Yield  \n",
              "0  2439.6      3415.0   1.40  \n",
              "1  1626.4      2277.0   1.40  \n",
              "2  4147.0      3060.0   0.74  \n",
              "3  4147.0      2660.0   0.64  \n",
              "4  4153.0      3120.0   0.75  "
            ],
            "text/html": [
              "\n",
              "  <div id=\"df-4e459c5c-34b6-4ae3-9fda-777b8f86d791\">\n",
              "    <div class=\"colab-df-container\">\n",
              "      <div>\n",
              "<style scoped>\n",
              "    .dataframe tbody tr th:only-of-type {\n",
              "        vertical-align: middle;\n",
              "    }\n",
              "\n",
              "    .dataframe tbody tr th {\n",
              "        vertical-align: top;\n",
              "    }\n",
              "\n",
              "    .dataframe thead th {\n",
              "        text-align: right;\n",
              "    }\n",
              "</style>\n",
              "<table border=\"1\" class=\"dataframe\">\n",
              "  <thead>\n",
              "    <tr style=\"text-align: right;\">\n",
              "      <th></th>\n",
              "      <th>State</th>\n",
              "      <th>District</th>\n",
              "      <th>Crop</th>\n",
              "      <th>Crop_Year</th>\n",
              "      <th>Season</th>\n",
              "      <th>Area</th>\n",
              "      <th>Production</th>\n",
              "      <th>Yield</th>\n",
              "    </tr>\n",
              "  </thead>\n",
              "  <tbody>\n",
              "    <tr>\n",
              "      <th>0</th>\n",
              "      <td>Andaman and Nicobar Island</td>\n",
              "      <td>NICOBARS</td>\n",
              "      <td>Arecanut</td>\n",
              "      <td>2007</td>\n",
              "      <td>Kharif</td>\n",
              "      <td>2439.6</td>\n",
              "      <td>3415.0</td>\n",
              "      <td>1.40</td>\n",
              "    </tr>\n",
              "    <tr>\n",
              "      <th>1</th>\n",
              "      <td>Andaman and Nicobar Island</td>\n",
              "      <td>NICOBARS</td>\n",
              "      <td>Arecanut</td>\n",
              "      <td>2007</td>\n",
              "      <td>Rabi</td>\n",
              "      <td>1626.4</td>\n",
              "      <td>2277.0</td>\n",
              "      <td>1.40</td>\n",
              "    </tr>\n",
              "    <tr>\n",
              "      <th>2</th>\n",
              "      <td>Andaman and Nicobar Island</td>\n",
              "      <td>NICOBARS</td>\n",
              "      <td>Arecanut</td>\n",
              "      <td>2008</td>\n",
              "      <td>Autumn</td>\n",
              "      <td>4147.0</td>\n",
              "      <td>3060.0</td>\n",
              "      <td>0.74</td>\n",
              "    </tr>\n",
              "    <tr>\n",
              "      <th>3</th>\n",
              "      <td>Andaman and Nicobar Island</td>\n",
              "      <td>NICOBARS</td>\n",
              "      <td>Arecanut</td>\n",
              "      <td>2008</td>\n",
              "      <td>Summer</td>\n",
              "      <td>4147.0</td>\n",
              "      <td>2660.0</td>\n",
              "      <td>0.64</td>\n",
              "    </tr>\n",
              "    <tr>\n",
              "      <th>4</th>\n",
              "      <td>Andaman and Nicobar Island</td>\n",
              "      <td>NICOBARS</td>\n",
              "      <td>Arecanut</td>\n",
              "      <td>2009</td>\n",
              "      <td>Autumn</td>\n",
              "      <td>4153.0</td>\n",
              "      <td>3120.0</td>\n",
              "      <td>0.75</td>\n",
              "    </tr>\n",
              "  </tbody>\n",
              "</table>\n",
              "</div>\n",
              "      <button class=\"colab-df-convert\" onclick=\"convertToInteractive('df-4e459c5c-34b6-4ae3-9fda-777b8f86d791')\"\n",
              "              title=\"Convert this dataframe to an interactive table.\"\n",
              "              style=\"display:none;\">\n",
              "        \n",
              "  <svg xmlns=\"http://www.w3.org/2000/svg\" height=\"24px\"viewBox=\"0 0 24 24\"\n",
              "       width=\"24px\">\n",
              "    <path d=\"M0 0h24v24H0V0z\" fill=\"none\"/>\n",
              "    <path d=\"M18.56 5.44l.94 2.06.94-2.06 2.06-.94-2.06-.94-.94-2.06-.94 2.06-2.06.94zm-11 1L8.5 8.5l.94-2.06 2.06-.94-2.06-.94L8.5 2.5l-.94 2.06-2.06.94zm10 10l.94 2.06.94-2.06 2.06-.94-2.06-.94-.94-2.06-.94 2.06-2.06.94z\"/><path d=\"M17.41 7.96l-1.37-1.37c-.4-.4-.92-.59-1.43-.59-.52 0-1.04.2-1.43.59L10.3 9.45l-7.72 7.72c-.78.78-.78 2.05 0 2.83L4 21.41c.39.39.9.59 1.41.59.51 0 1.02-.2 1.41-.59l7.78-7.78 2.81-2.81c.8-.78.8-2.07 0-2.86zM5.41 20L4 18.59l7.72-7.72 1.47 1.35L5.41 20z\"/>\n",
              "  </svg>\n",
              "      </button>\n",
              "      \n",
              "  <style>\n",
              "    .colab-df-container {\n",
              "      display:flex;\n",
              "      flex-wrap:wrap;\n",
              "      gap: 12px;\n",
              "    }\n",
              "\n",
              "    .colab-df-convert {\n",
              "      background-color: #E8F0FE;\n",
              "      border: none;\n",
              "      border-radius: 50%;\n",
              "      cursor: pointer;\n",
              "      display: none;\n",
              "      fill: #1967D2;\n",
              "      height: 32px;\n",
              "      padding: 0 0 0 0;\n",
              "      width: 32px;\n",
              "    }\n",
              "\n",
              "    .colab-df-convert:hover {\n",
              "      background-color: #E2EBFA;\n",
              "      box-shadow: 0px 1px 2px rgba(60, 64, 67, 0.3), 0px 1px 3px 1px rgba(60, 64, 67, 0.15);\n",
              "      fill: #174EA6;\n",
              "    }\n",
              "\n",
              "    [theme=dark] .colab-df-convert {\n",
              "      background-color: #3B4455;\n",
              "      fill: #D2E3FC;\n",
              "    }\n",
              "\n",
              "    [theme=dark] .colab-df-convert:hover {\n",
              "      background-color: #434B5C;\n",
              "      box-shadow: 0px 1px 3px 1px rgba(0, 0, 0, 0.15);\n",
              "      filter: drop-shadow(0px 1px 2px rgba(0, 0, 0, 0.3));\n",
              "      fill: #FFFFFF;\n",
              "    }\n",
              "  </style>\n",
              "\n",
              "      <script>\n",
              "        const buttonEl =\n",
              "          document.querySelector('#df-4e459c5c-34b6-4ae3-9fda-777b8f86d791 button.colab-df-convert');\n",
              "        buttonEl.style.display =\n",
              "          google.colab.kernel.accessAllowed ? 'block' : 'none';\n",
              "\n",
              "        async function convertToInteractive(key) {\n",
              "          const element = document.querySelector('#df-4e459c5c-34b6-4ae3-9fda-777b8f86d791');\n",
              "          const dataTable =\n",
              "            await google.colab.kernel.invokeFunction('convertToInteractive',\n",
              "                                                     [key], {});\n",
              "          if (!dataTable) return;\n",
              "\n",
              "          const docLinkHtml = 'Like what you see? Visit the ' +\n",
              "            '<a target=\"_blank\" href=https://colab.research.google.com/notebooks/data_table.ipynb>data table notebook</a>'\n",
              "            + ' to learn more about interactive tables.';\n",
              "          element.innerHTML = '';\n",
              "          dataTable['output_type'] = 'display_data';\n",
              "          await google.colab.output.renderOutput(dataTable, element);\n",
              "          const docLink = document.createElement('div');\n",
              "          docLink.innerHTML = docLinkHtml;\n",
              "          element.appendChild(docLink);\n",
              "        }\n",
              "      </script>\n",
              "    </div>\n",
              "  </div>\n",
              "  "
            ]
          },
          "metadata": {},
          "execution_count": 14
        }
      ]
    },
    {
      "cell_type": "markdown",
      "source": [
        "**Assigning Numerical Values using label encoder**\n",
        "\n",
        "---\n",
        "\n"
      ],
      "metadata": {
        "id": "xrBQjJVrnSwY"
      }
    },
    {
      "cell_type": "code",
      "execution_count": 17,
      "metadata": {
        "id": "XrzQ7m3zQgIL"
      },
      "outputs": [],
      "source": [
        "data1[\"State\"]=l1.fit_transform(data1[\"State\"])\n",
        "data1[\"District \"]=l1.fit_transform(data1[\"District \"])\n",
        "data1[\"Crop\"]=l1.fit_transform(data1[\"Crop\"])\n",
        "data1[\"Season\"]=l1.fit_transform(data1[\"Season\"])"
      ]
    },
    {
      "cell_type": "markdown",
      "source": [
        "**Separating label and features**\n",
        "\n",
        "---\n",
        "\n"
      ],
      "metadata": {
        "id": "KxgFqbr6ncsm"
      }
    },
    {
      "cell_type": "code",
      "execution_count": 18,
      "metadata": {
        "id": "dzJjzTdNSlrl"
      },
      "outputs": [],
      "source": [
        "x = data1.drop(\"Yield\", axis=1)\n",
        "y = data1[\"Yield\"]"
      ]
    },
    {
      "cell_type": "markdown",
      "source": [
        "**Splitting training(80%) and testing(20%) dataset**\n",
        "\n",
        "---\n",
        "\n"
      ],
      "metadata": {
        "id": "0jUwSUcwni20"
      }
    },
    {
      "cell_type": "code",
      "execution_count": 19,
      "metadata": {
        "id": "jAa8mP8AT5oB"
      },
      "outputs": [],
      "source": [
        "x_train, x_test, y_train, y_test = train_test_split(x, y, test_size=0.2, random_state=50)"
      ]
    },
    {
      "cell_type": "markdown",
      "source": [
        "**Importing model: RandomeForets Regressor**\n",
        "\n",
        "---\n",
        "\n"
      ],
      "metadata": {
        "id": "s7LfJAI0n2ya"
      }
    },
    {
      "cell_type": "code",
      "execution_count": 20,
      "metadata": {
        "id": "uxkqtdPXUYhB"
      },
      "outputs": [],
      "source": [
        "rf_model = RandomForestRegressor(n_estimators=100, random_state=50)"
      ]
    },
    {
      "cell_type": "markdown",
      "source": [
        "**Training the Model**\n",
        "\n",
        "---\n",
        "\n"
      ],
      "metadata": {
        "id": "Nlnj2HQYn9xi"
      }
    },
    {
      "cell_type": "code",
      "execution_count": 21,
      "metadata": {
        "colab": {
          "base_uri": "https://localhost:8080/",
          "height": 74
        },
        "id": "CnSBiAUpUgy5",
        "outputId": "76eef404-ef55-4543-cc26-d3de6ccf22b0"
      },
      "outputs": [
        {
          "output_type": "execute_result",
          "data": {
            "text/plain": [
              "RandomForestRegressor(random_state=50)"
            ],
            "text/html": [
              "<style>#sk-container-id-1 {color: black;background-color: white;}#sk-container-id-1 pre{padding: 0;}#sk-container-id-1 div.sk-toggleable {background-color: white;}#sk-container-id-1 label.sk-toggleable__label {cursor: pointer;display: block;width: 100%;margin-bottom: 0;padding: 0.3em;box-sizing: border-box;text-align: center;}#sk-container-id-1 label.sk-toggleable__label-arrow:before {content: \"▸\";float: left;margin-right: 0.25em;color: #696969;}#sk-container-id-1 label.sk-toggleable__label-arrow:hover:before {color: black;}#sk-container-id-1 div.sk-estimator:hover label.sk-toggleable__label-arrow:before {color: black;}#sk-container-id-1 div.sk-toggleable__content {max-height: 0;max-width: 0;overflow: hidden;text-align: left;background-color: #f0f8ff;}#sk-container-id-1 div.sk-toggleable__content pre {margin: 0.2em;color: black;border-radius: 0.25em;background-color: #f0f8ff;}#sk-container-id-1 input.sk-toggleable__control:checked~div.sk-toggleable__content {max-height: 200px;max-width: 100%;overflow: auto;}#sk-container-id-1 input.sk-toggleable__control:checked~label.sk-toggleable__label-arrow:before {content: \"▾\";}#sk-container-id-1 div.sk-estimator input.sk-toggleable__control:checked~label.sk-toggleable__label {background-color: #d4ebff;}#sk-container-id-1 div.sk-label input.sk-toggleable__control:checked~label.sk-toggleable__label {background-color: #d4ebff;}#sk-container-id-1 input.sk-hidden--visually {border: 0;clip: rect(1px 1px 1px 1px);clip: rect(1px, 1px, 1px, 1px);height: 1px;margin: -1px;overflow: hidden;padding: 0;position: absolute;width: 1px;}#sk-container-id-1 div.sk-estimator {font-family: monospace;background-color: #f0f8ff;border: 1px dotted black;border-radius: 0.25em;box-sizing: border-box;margin-bottom: 0.5em;}#sk-container-id-1 div.sk-estimator:hover {background-color: #d4ebff;}#sk-container-id-1 div.sk-parallel-item::after {content: \"\";width: 100%;border-bottom: 1px solid gray;flex-grow: 1;}#sk-container-id-1 div.sk-label:hover label.sk-toggleable__label {background-color: #d4ebff;}#sk-container-id-1 div.sk-serial::before {content: \"\";position: absolute;border-left: 1px solid gray;box-sizing: border-box;top: 0;bottom: 0;left: 50%;z-index: 0;}#sk-container-id-1 div.sk-serial {display: flex;flex-direction: column;align-items: center;background-color: white;padding-right: 0.2em;padding-left: 0.2em;position: relative;}#sk-container-id-1 div.sk-item {position: relative;z-index: 1;}#sk-container-id-1 div.sk-parallel {display: flex;align-items: stretch;justify-content: center;background-color: white;position: relative;}#sk-container-id-1 div.sk-item::before, #sk-container-id-1 div.sk-parallel-item::before {content: \"\";position: absolute;border-left: 1px solid gray;box-sizing: border-box;top: 0;bottom: 0;left: 50%;z-index: -1;}#sk-container-id-1 div.sk-parallel-item {display: flex;flex-direction: column;z-index: 1;position: relative;background-color: white;}#sk-container-id-1 div.sk-parallel-item:first-child::after {align-self: flex-end;width: 50%;}#sk-container-id-1 div.sk-parallel-item:last-child::after {align-self: flex-start;width: 50%;}#sk-container-id-1 div.sk-parallel-item:only-child::after {width: 0;}#sk-container-id-1 div.sk-dashed-wrapped {border: 1px dashed gray;margin: 0 0.4em 0.5em 0.4em;box-sizing: border-box;padding-bottom: 0.4em;background-color: white;}#sk-container-id-1 div.sk-label label {font-family: monospace;font-weight: bold;display: inline-block;line-height: 1.2em;}#sk-container-id-1 div.sk-label-container {text-align: center;}#sk-container-id-1 div.sk-container {/* jupyter's `normalize.less` sets `[hidden] { display: none; }` but bootstrap.min.css set `[hidden] { display: none !important; }` so we also need the `!important` here to be able to override the default hidden behavior on the sphinx rendered scikit-learn.org. See: https://github.com/scikit-learn/scikit-learn/issues/21755 */display: inline-block !important;position: relative;}#sk-container-id-1 div.sk-text-repr-fallback {display: none;}</style><div id=\"sk-container-id-1\" class=\"sk-top-container\"><div class=\"sk-text-repr-fallback\"><pre>RandomForestRegressor(random_state=50)</pre><b>In a Jupyter environment, please rerun this cell to show the HTML representation or trust the notebook. <br />On GitHub, the HTML representation is unable to render, please try loading this page with nbviewer.org.</b></div><div class=\"sk-container\" hidden><div class=\"sk-item\"><div class=\"sk-estimator sk-toggleable\"><input class=\"sk-toggleable__control sk-hidden--visually\" id=\"sk-estimator-id-1\" type=\"checkbox\" checked><label for=\"sk-estimator-id-1\" class=\"sk-toggleable__label sk-toggleable__label-arrow\">RandomForestRegressor</label><div class=\"sk-toggleable__content\"><pre>RandomForestRegressor(random_state=50)</pre></div></div></div></div></div>"
            ]
          },
          "metadata": {},
          "execution_count": 21
        }
      ],
      "source": [
        "rf_model.fit(x_train, y_train)"
      ]
    },
    {
      "cell_type": "markdown",
      "source": [
        "**Testing**\n",
        "\n",
        "---\n",
        "\n"
      ],
      "metadata": {
        "id": "_VgZY0fwoCv7"
      }
    },
    {
      "cell_type": "code",
      "execution_count": 22,
      "metadata": {
        "id": "NV8O5a4SVgu-"
      },
      "outputs": [],
      "source": [
        "y_pred = rf_model.predict(x_test)"
      ]
    },
    {
      "cell_type": "markdown",
      "source": [
        "**Finding MAE**\n",
        "\n",
        "---\n",
        "\n"
      ],
      "metadata": {
        "id": "GEKe1DRZoMcG"
      }
    },
    {
      "cell_type": "code",
      "execution_count": 40,
      "metadata": {
        "colab": {
          "base_uri": "https://localhost:8080/"
        },
        "id": "5I3jJl-hVyKm",
        "outputId": "2c3eccd3-4686-441d-a97c-776720559eb5"
      },
      "outputs": [
        {
          "output_type": "stream",
          "name": "stdout",
          "text": [
            "5.3553179649041525\n"
          ]
        }
      ],
      "source": [
        "mae=mean_absolute_error(y_test,y_pred)\n",
        "print(mae)"
      ]
    },
    {
      "cell_type": "markdown",
      "source": [
        "**dictionary for columns containing values as their key and corresponding numerical value as their values.**\n",
        "\n",
        "---\n",
        "\n"
      ],
      "metadata": {
        "id": "4lVQdOmDoXmQ"
      }
    },
    {
      "cell_type": "code",
      "source": [
        "state_dict ={}\n",
        "district_dict={}\n",
        "crop_dict={}\n",
        "season_dict={}\n",
        "\n",
        "for i,j in zip(data1['State'],data2['State']):\n",
        "  state_dict[j]=i\n",
        "\n",
        "for i,j in zip(data1['District '],data2['District ']):\n",
        "  district_dict[j]=i\n",
        "\n",
        "for i,j in zip(data1['Crop'],data2['Crop']):\n",
        "  crop_dict[j]=i\n",
        "\n",
        "for i,j in zip(data1['Season'],data2['Season']):\n",
        "  season_dict[j]=i      "
      ],
      "metadata": {
        "id": "PM7Wrr5lOfrr"
      },
      "execution_count": 37,
      "outputs": []
    },
    {
      "cell_type": "code",
      "source": [
        "print(state_dict)\n",
        "print(district_dict)\n",
        "print(crop_dict)\n",
        "print(season_dict)"
      ],
      "metadata": {
        "colab": {
          "base_uri": "https://localhost:8080/"
        },
        "id": "sBgG2FVGaM3h",
        "outputId": "18a7ed48-12cc-4854-9b9d-000b46a449ce"
      },
      "execution_count": 38,
      "outputs": [
        {
          "output_type": "stream",
          "name": "stdout",
          "text": [
            "{'Andaman and Nicobar Island': 0, 'Andhra Pradesh': 1, 'Arunachal Pradesh': 2, 'Assam': 3, 'Bihar': 4, 'CHANDIGARH': 5, 'Chhattisgarh': 6, 'Dadra and Nagar Haveli': 7, 'Daman and Diu': 8, 'Delhi': 9, 'Goa': 10, 'Gujarat': 11, 'Haryana': 12, 'Himachal Pradesh': 13, 'Jammu and Kashmir': 14, 'Jharkhand': 15, 'Karnataka': 16, 'Kerala': 17, 'Laddak': 18, 'Madhya Pradesh': 19, 'Maharashtra': 20, 'Manipur': 21, 'Meghalaya': 22, 'Mizoram': 23, 'Nagaland': 24, 'Odisha': 25, 'Puducherry': 26, 'Punjab': 27, 'Rajasthan': 28, 'Sikkim': 29, 'Tamil Nadu': 31, 'Telangana': 32, 'THE DADRA AND NAGAR HAVELI': 30, 'Tripura': 33, 'Uttar Pradesh': 34, 'Uttarakhand': 35, 'West Bengal': 36}\n",
            "{'NICOBARS': 464, 'NORTH AND MIDDLE ANDAMAN': 468, 'SOUTH ANDAMANS': 611, 'ANANTAPUR': 23, 'EAST GODAVARI': 183, 'KRISHNA': 361, 'VIZIANAGARAM': 684, 'WEST GODAVARI': 692, 'ADILABAD': 0, 'CHITTOOR': 129, 'GUNTUR': 229, 'KADAPA': 293, 'KARIMNAGAR': 319, 'KHAMMAM': 331, 'KURNOOL': 366, 'MAHBUBNAGAR': 395, 'MEDAK': 417, 'NALGONDA': 450, 'NIZAMABAD': 467, 'PRAKASAM': 507, 'RANGAREDDI': 535, 'SPSR NELLORE': 619, 'SRIKAKULAM': 620, 'VISAKHAPATANAM': 683, 'WARANGAL': 686, 'HYDERABAD': 252, 'DIBANG VALLEY': 167, 'EAST KAMENG': 185, 'EAST SIANG': 187, 'KAMLE': 301, 'LEPARADA': 378, 'LOHIT': 380, 'LONGDING': 381, 'LOWER DIBANG VALLEY': 383, 'LOWER SIANG': 384, 'LOWER SUBANSIRI': 385, 'NAMSAI': 452, 'PAKKE KESSANG': 475, 'PAPUM PARE': 486, 'SIANG': 589, 'TIRAP': 648, 'UPPER SIANG': 669, 'UPPER SUBANSIRI': 670, 'WEST SIANG': 697, 'ANJAW': 25, 'CHANGLANG': 115, 'KRA DAADI': 360, 'KURUNG KUMEY': 368, 'SHI YOMI': 583, 'TAWANG': 634, 'WEST KAMENG': 694, 'BAKSA': 41, 'BARPETA': 64, 'BISWANATH\\n': 94, 'BONGAIGAON': 96, 'CACHAR': 105, 'CHARAIDEO\\n': 116, 'CHIRANG': 126, 'DARRANG': 145, 'DHEMAJI': 162, 'DHUBRI': 165, 'DIBRUGARH': 168, 'DIMA HASAO': 169, 'GOALPARA': 219, 'GOLAGHAT': 221, 'HAILAKANDI': 233, 'HOJAI\\n': 247, 'JORHAT': 289, 'KAMRUP': 302, 'KAMRUP METRO': 303, 'KARBI ANGLONG': 316, 'KARIMGANJ': 318, 'KOKRAJHAR': 346, 'LAKHIMPUR': 371, 'MAJULI\\n': 402, 'MARIGAON': 413, 'NAGAON': 442, 'NALBARI': 449, 'SIVASAGAR': 603, 'SONITPUR': 610, 'SOUTH SALMARA MANCACHAR\\n': 615, 'TINSUKIA': 647, 'UDALGURI': 659, 'WEST KARBI ANGLONG\\n': 695, 'ARARIA': 28, 'ARWAL': 31, 'AURANGABAD': 34, 'BANKA': 54, 'BEGUSARAI': 70, 'BHAGALPUR': 77, 'BHOJPUR': 85, 'BOKARO': 95, 'BUXAR': 104, 'CHATRA': 118, 'DARBHANGA': 143, 'DEOGHAR': 152, 'DHANBAD': 158, 'DUMKA': 178, 'EAST SINGHBUM': 188, 'GARHWA': 210, 'GAYA': 214, 'GIRIDIH': 218, 'GODDA': 220, 'GOPALGANJ': 225, 'GUMLA': 227, 'HAZARIBAGH': 244, 'JAMUI': 272, 'JEHANABAD': 278, 'KAIMUR (BHABUA)': 294, 'KATIHAR': 325, 'KHAGARIA': 330, 'KISHANGANJ': 341, 'KODERMA': 344, 'LAKHISARAI': 372, 'LOHARDAGA': 379, 'MADHEPURA': 389, 'MADHUBANI': 390, 'MUNGER': 435, 'MUZAFFARPUR': 438, 'NALANDA': 448, 'NAWADA': 461, 'PAKUR': 476, 'PALAMU': 478, 'PASHCHIM CHAMPARAN': 491, 'PATNA': 496, 'PURBI CHAMPARAN': 513, 'PURNIA': 515, 'RANCHI': 534, 'ROHTAS': 545, 'SAHARSA': 552, 'SAHEBGANJ': 553, 'SAMASTIPUR': 556, 'SARAN': 566, 'SHEIKHPURA': 580, 'SHEOHAR': 581, 'SITAMARHI': 600, 'SIWAN': 604, 'SUPAUL': 625, 'VAISHALI': 674, 'WEST SINGHBHUM': 698, 'CHANDIGARH': 113, 'BALOD': 47, 'BALODA BAZAR': 48, 'BALRAMPUR': 49, 'BASTAR': 66, 'BEMETARA': 72, 'BIJAPUR': 88, 'BILASPUR': 91, 'DANTEWADA': 142, 'DHAMTARI': 157, 'DURG': 180, 'GARIYABAND': 211, 'GAURELLA-PENDRA-MARWAHI': 212, 'JANJGIR-CHAMPA': 274, 'JASHPUR': 275, 'KABIRDHAM': 291, 'KANKER': 307, 'KONDAGAON': 352, 'KORBA': 355, 'KOREA': 356, 'MAHASAMUND': 394, 'MUNGELI': 434, 'NARAYANPUR': 456, 'RAIGARH': 520, 'RAIPUR': 521, 'RAJNANDGAON': 527, 'SUKMA': 622, 'SURAJPUR': 626, 'SURGUJA': 629, 'DADRA AND NAGAR HAVELI': 137, 'DIU': 175, 'DAMAN': 139, 'DELHI_TOTAL': 150, 'NORTH GOA': 471, 'SOUTH GOA': 614, 'AHMADABAD': 3, 'AMRELI': 19, 'ANAND': 22, 'ARAVALLI': 29, 'BANAS KANTHA': 50, 'BHARUCH': 80, 'BHAVNAGAR': 81, 'BOTAD': 97, 'CHHOTAUDEPUR': 123, 'DANG': 141, 'DEVBHUMI DWARKA': 154, 'DOHAD': 177, 'GANDHINAGAR': 207, 'GIR SOMNATH': 217, 'JAMNAGAR': 270, 'JUNAGADH': 290, 'KACHCHH': 292, 'KHEDA': 334, 'MAHESANA': 398, 'MAHISAGAR': 399, 'MORBI': 428, 'NARMADA': 457, 'NAVSARI': 460, 'PANCH MAHALS': 482, 'PATAN': 492, 'PORBANDAR': 506, 'RAJKOT': 526, 'SABAR KANTHA': 549, 'SURAT': 627, 'SURENDRANAGAR': 628, 'TAPI': 632, 'VADODARA': 673, 'VALSAD': 675, 'AMBALA': 15, 'BHIWANI': 84, 'CHARKI DADRI': 117, 'FARIDABAD': 194, 'FATEHABAD': 197, 'GURGAON': 231, 'HISAR': 246, 'JHAJJAR': 280, 'JIND': 286, 'KAITHAL': 295, 'KARNAL': 320, 'KURUKSHETRA': 367, 'MAHENDRAGARH': 397, 'MEWAT': 422, 'PALWAL': 481, 'PANCHKULA': 483, 'PANIPAT': 484, 'REWARI': 542, 'ROHTAK': 544, 'SIRSA': 599, 'SONIPAT': 609, 'YAMUNANAGAR': 703, 'CHAMBA': 107, 'KANGRA': 306, 'KULLU': 364, 'MANDI': 408, 'SHIMLA': 584, 'SIRMAUR': 597, 'SOLAN': 605, 'UNA': 666, 'HAMIRPUR': 234, 'KINNAUR': 339, 'LAHUL AND SPITI': 370, 'JAMMU': 269, 'SAMBA': 557, 'BANDIPORA': 52, 'DODA': 176, 'KATHUA': 324, 'KISHTWAR': 342, 'KUPWARA': 365, 'LEH LADAKH': 377, 'RAJAURI': 524, 'REASI': 540, 'UDHAMPUR': 661, 'BARAMULLA': 58, 'GANDERBAL': 206, 'RAMBAN': 531, 'SRINAGAR': 621, 'BADGAM': 36, 'ANANTNAG': 24, 'KULGAM': 363, 'POONCH': 505, 'PULWAMA': 510, 'SHOPIAN': 587, 'KARGIL': 317, 'JAMTARA': 271, 'KHUNTI': 338, 'LATEHAR': 374, 'RAMGARH': 532, 'SARAIKELA KHARSAWAN': 565, 'SIMDEGA': 594, 'BAGALKOTE': 37, 'BALLARI': 45, 'BANGALORE RURAL': 53, 'BELAGAVI': 71, 'BENGALURU URBAN': 73, 'CHAMARAJANAGARA': 106, 'CHIKKABALLAPURA': 124, 'CHIKKAMAGALURU': 125, 'CHITRADURGA': 127, 'DAKSHINA KANNADA': 138, 'DAVANGERE': 148, 'DHARWAD': 161, 'GADAG': 203, 'HASSAN': 241, 'HAVERI': 243, 'KALABURAGI': 296, 'KODAGU': 343, 'KOLAR': 347, 'MANDYA': 411, 'MYSURU': 439, 'RAMANAGARA': 529, 'SHIVAMOGGA': 585, 'TUMAKURU': 656, 'UDUPI': 662, 'UTTARA KANNADA': 672, 'VIJAYAPURA': 679, 'BIDAR': 87, 'KOPPAL': 353, 'RAICHUR': 518, 'YADAGIRI': 702, 'ALAPPUZHA': 8, 'ERNAKULAM': 189, 'IDUKKI': 253, 'KANNUR': 310, 'KASARAGOD': 322, 'KOLLAM': 350, 'KOTTAYAM': 358, 'KOZHIKODE': 359, 'MALAPPURAM': 403, 'PALAKKAD': 477, 'PATHANAMTHITTA': 493, 'THIRUVANANTHAPURAM': 642, 'THRISSUR': 645, 'WAYANAD': 689, 'AGAR MALWA': 1, 'ALIRAJPUR': 11, 'ANUPPUR': 27, 'ASHOKNAGAR': 32, 'BALAGHAT': 42, 'BARWANI': 65, 'BETUL': 74, 'BHIND': 83, 'BHOPAL': 86, 'BURHANPUR': 103, 'CHHATARPUR': 121, 'CHHINDWARA': 122, 'DAMOH': 140, 'DATIA': 146, 'DEWAS': 155, 'DHAR': 159, 'DINDORI': 174, 'GUNA': 228, 'GWALIOR': 232, 'HARDA': 238, 'HOSHANGABAD': 249, 'INDORE': 256, 'JABALPUR': 257, 'JHABUA': 279, 'KATNI': 326, 'KHANDWA': 332, 'KHARGONE': 333, 'MANDLA': 409, 'MANDSAUR': 410, 'MORENA': 429, 'NARSINGHPUR': 458, 'NEEMUCH': 463, 'PANNA': 485, 'RAISEN': 522, 'RAJGARH': 525, 'RATLAM': 537, 'REWA': 541, 'SAGAR': 550, 'SATNA': 568, 'SEHORE': 570, 'SEONI': 572, 'SHAHDOL': 575, 'SHAJAPUR': 578, 'SHEOPUR': 582, 'SHIVPURI': 586, 'SIDHI': 592, 'SINGRAULI': 596, 'TIKAMGARH': 646, 'UJJAIN': 663, 'UMARIA': 665, 'VIDISHA': 678, 'NIWARI': 466, 'AHMEDNAGAR': 4, 'AKOLA': 7, 'AMRAVATI': 18, 'BEED': 69, 'BHANDARA': 78, 'BULDHANA': 101, 'CHANDRAPUR': 114, 'DHULE': 166, 'GADCHIROLI': 204, 'GONDIA': 224, 'HINGOLI': 245, 'JALGAON': 265, 'JALNA': 266, 'KOLHAPUR': 349, 'LATUR': 375, 'NAGPUR': 446, 'NANDED': 453, 'NANDURBAR': 454, 'NASHIK': 459, 'OSMANABAD': 474, 'PALGHAR': 479, 'PARBHANI': 489, 'PUNE': 511, 'RAIGAD': 519, 'RATNAGIRI': 538, 'SANGLI': 561, 'SATARA': 567, 'SINDHUDURG': 595, 'SOLAPUR': 606, 'THANE': 637, 'WARDHA': 687, 'WASHIM': 688, 'YAVATMAL': 705, 'MUMBAI SUBURBAN': 433, 'MUMBAI': 432, 'BISHNUPUR': 93, 'CHANDEL': 112, 'CHURACHANDPUR': 131, 'IMPHAL EAST': 254, 'IMPHAL WEST': 255, 'SENAPATI': 571, 'TAMENGLONG': 631, 'THOUBAL': 644, 'UKHRUL': 664, 'EAST GARO HILLS': 182, 'EAST JAINTIA HILLS': 184, 'EAST KHASI HILLS': 186, 'NORTH GARO HILLS': 470, 'RI BHOI': 543, 'SOUTH GARO HILLS': 613, 'SOUTH WEST GARO HILLS': 617, 'SOUTH WEST KHASI HILLS': 618, 'WEST GARO HILLS': 691, 'WEST JAINTIA HILLS': 693, 'WEST KHASI HILLS': 696, 'AIZAWL': 5, 'CHAMPHAI': 110, 'KOLASIB': 348, 'LAWNGTLAI': 376, 'LUNGLEI': 388, 'MAMIT': 406, 'SAIHA': 554, 'SERCHHIP': 574, 'DIMAPUR': 170, 'KIPHIRE': 340, 'KOHIMA': 345, 'LONGLENG': 382, 'MOKOKCHUNG': 425, 'MON': 426, 'PEREN': 500, 'PHEK': 501, 'TUENSANG': 655, 'WOKHA': 700, 'ZUNHEBOTO': 706, 'ANUGUL': 26, 'BALANGIR': 43, 'BALESHWAR': 44, 'BARGARH': 61, 'BHADRAK': 76, 'BOUDH': 98, 'CUTTACK': 136, 'DEOGARH': 151, 'DHENKANAL': 163, 'GAJAPATI': 205, 'GANJAM': 209, 'JAGATSINGHAPUR': 258, 'JAJAPUR': 262, 'JHARSUGUDA': 284, 'KALAHANDI': 297, 'KANDHAMAL': 305, 'KENDRAPARA': 328, 'KENDUJHAR': 329, 'KHORDHA': 336, 'KORAPUT': 354, 'MALKANGIRI': 405, 'MAYURBHANJ': 416, 'NABARANGPUR': 440, 'NAYAGARH': 462, 'NUAPADA': 473, 'PURI': 514, 'RAYAGADA': 539, 'SAMBALPUR': 558, 'SONEPUR': 608, 'SUNDARGARH': 624, 'MAHE': 396, 'KARAIKAL': 314, 'PONDICHERRY': 504, 'YANAM': 704, 'AMRITSAR': 20, 'BARNALA': 63, 'BATHINDA': 68, 'FARIDKOT': 195, 'FATEHGARH SAHIB': 198, 'FAZILKA': 200, 'FIROZEPUR': 202, 'GURDASPUR': 230, 'HOSHIARPUR': 250, 'JALANDHAR': 263, 'KAPURTHALA': 313, 'LUDHIANA': 387, 'MANSA': 412, 'MOGA': 424, 'MUKTSAR': 430, 'PATIALA': 495, 'RUPNAGAR': 547, 'S NAGAR': 548, 'SANGRUR': 562, 'SHAHID BHAGAT SINGH NAGAR': 576, 'TARN TARAN': 633, 'PATHANKOT': 494, 'AJMER': 6, 'ALWAR': 14, 'BANSWARA': 56, 'BARAN': 59, 'BARMER': 62, 'BHARATPUR': 79, 'BHILWARA': 82, 'BIKANER': 90, 'BUNDI': 102, 'CHITTORGARH': 130, 'DAUSA': 147, 'DHOLPUR': 164, 'DUNGARPUR': 179, 'GANGANAGAR': 208, 'HANUMANGARH': 236, 'JAIPUR': 260, 'JAISALMER': 261, 'JALORE': 267, 'JHALAWAR': 281, 'JHUNJHUNU': 285, 'JODHPUR': 287, 'KARAULI': 315, 'KOTA': 357, 'NAGAUR': 445, 'PALI': 480, 'PRATAPGARH': 508, 'RAJSAMAND': 528, 'SAWAI MADHOPUR': 569, 'SIKAR': 593, 'SIROHI': 598, 'TONK': 654, 'UDAIPUR': 658, 'CHURU': 132, 'EAST DISTRICT': 181, 'NORTH DISTRICT': 469, 'SOUTH DISTRICT': 612, 'WEST DISTRICT': 690, 'ARIYALUR': 30, 'COIMBATORE': 133, 'CUDDALORE': 135, 'DHARMAPURI': 160, 'DINDIGUL': 173, 'ERODE': 190, 'KANNIYAKUMARI': 309, 'KARUR': 321, 'KRISHNAGIRI': 362, 'MADURAI': 391, 'NAGAPATTINAM': 443, 'NAMAKKAL': 451, 'PERAMBALUR': 499, 'PUDUKKOTTAI': 509, 'SALEM': 555, 'THANJAVUR': 638, 'THE NILGIRIS': 639, 'THENI': 640, 'THIRUVARUR': 643, 'TIRUCHIRAPPALLI': 649, 'TIRUNELVELI': 650, 'TIRUPPUR': 652, 'TIRUVANNAMALAI': 653, 'VELLORE': 677, 'VILLUPURAM': 681, 'VIRUDHUNAGAR': 682, 'KANCHIPURAM': 304, 'RAMANATHAPURAM': 530, 'SIVAGANGA': 602, 'THIRUVALLUR': 641, 'TUTICORIN': 657, 'CHENNAI': 120, 'KALLAKURICHI': 299, 'TENKASI': 636, 'TIRUPATHUR': 651, 'CHENGALPATTU': 119, 'RANIPET': 536, 'BHADRADRI': 75, 'HANUMAKONDA\\n': 235, 'JAGITIAL': 259, 'JANGOAN': 273, 'JAYASHANKAR': 277, 'JOGULAMBA': 288, 'KAMAREDDY': 300, 'KOMARAM BHEEM ASIFABAD': 351, 'MAHABUBABAD': 392, 'MANCHERIAL': 407, 'MEDCHAL MALKAJGIRI': 418, 'MULUGU': 431, 'NAGARKURNOOL': 444, 'NARAYANAPET': 455, 'NIRMAL': 465, 'PEDDAPALLI': 498, 'RAJANNA': 523, 'SANGAREDDY': 560, 'SIDDIPET': 591, 'SURYAPET': 630, 'VIKARABAD': 680, 'WANAPARTHY': 685, 'YADADRI': 701, 'DHALAI': 156, 'GOMATI': 222, 'KHOWAI': 337, 'NORTH TRIPURA': 472, 'SEPAHIJALA': 573, 'SOUTH TRIPURA': 616, 'UNAKOTI': 667, 'WEST TRIPURA': 699, 'AGRA': 2, 'ALIGARH': 9, 'ALLAHABAD': 12, 'ALMORA': 13, 'AMBEDKAR NAGAR': 16, 'AMETHI': 17, 'AMROHA': 21, 'AURAIYA': 33, 'AZAMGARH': 35, 'BAGHPAT': 39, 'BAHRAICH': 40, 'BALLIA': 46, 'BANDA': 51, 'BARABANKI': 57, 'BAREILLY': 60, 'BASTI': 67, 'BIJNOR': 89, 'BUDAUN': 99, 'BULANDSHAHR': 100, 'CHAMOLI': 108, 'CHANDAULI': 111, 'CHITRAKOOT': 128, 'DEHRADUN': 149, 'DEORIA': 153, 'ETAH': 191, 'ETAWAH': 192, 'FAIZABAD': 193, 'FARRUKHABAD': 196, 'FATEHPUR': 199, 'FIROZABAD': 201, 'GAUTAM BUDDHA NAGAR': 213, 'GHAZIABAD': 215, 'GHAZIPUR': 216, 'GONDA': 223, 'GORAKHPUR': 226, 'HAPUR': 237, 'HARDOI': 239, 'HARIDWAR': 240, 'HATHRAS': 242, 'JALAUN': 264, 'JAUNPUR': 276, 'JHANSI': 282, 'KANNAUJ': 308, 'KANPUR DEHAT': 311, 'KANPUR NAGAR': 312, 'KASGANJ': 323, 'KAUSHAMBI': 327, 'KHERI': 335, 'KUSHI NAGAR': 369, 'LALITPUR': 373, 'LUCKNOW': 386, 'MAHARAJGANJ': 393, 'MAHOBA': 400, 'MAINPURI': 401, 'MATHURA': 414, 'MAU': 415, 'MEERUT': 421, 'MIRZAPUR': 423, 'MORADABAD': 427, 'MUZAFFARNAGAR': 437, 'NAINITAL': 447, 'PAURI GARHWAL': 497, 'PILIBHIT': 502, 'PITHORAGARH': 503, 'RAE BARELI': 517, 'RAMPUR': 533, 'SAHARANPUR': 551, 'SAMBHAL': 559, 'SANT KABEER NAGAR': 563, 'SANT RAVIDAS NAGAR': 564, 'SHAHJAHANPUR': 577, 'SHAMLI': 579, 'SHRAVASTI': 588, 'SIDDHARTH NAGAR': 590, 'SITAPUR': 601, 'SONBHADRA': 607, 'SULTANPUR': 623, 'TEHRI GARHWAL': 635, 'UDAM SINGH NAGAR': 660, 'UNNAO': 668, 'UTTAR KASHI': 671, 'VARANASI': 676, 'BAGESHWAR': 38, 'CHAMPAWAT': 109, 'RUDRA PRAYAG': 546, 'PARAGANAS NORTH': 487, 'PARAGANAS SOUTH': 488, 'BANKURA': 55, 'BIRBHUM': 92, 'COOCHBEHAR': 134, 'DARJEELING': 144, 'DINAJPUR DAKSHIN': 171, 'DINAJPUR UTTAR': 172, 'HOOGHLY': 248, 'HOWRAH': 251, 'JALPAIGURI': 268, 'MALDAH': 404, 'MEDINIPUR EAST': 419, 'MEDINIPUR WEST': 420, 'MURSHIDABAD': 436, 'NADIA': 441, 'PURBA BARDHAMAN': 512, 'PURULIA': 516, 'ALIPURDUAR': 10, 'JHARGRAM\\n': 283, 'KALIMPONG\\n': 298, 'PASCHIM BARDHAMAN\\n': 490}\n",
            "{'Arecanut': 0, 'Arhar/Tur': 1, 'Banana': 3, 'Black pepper': 5, 'Cashewnut': 7, 'Coconut ': 9, 'Cowpea(Lobia)': 12, 'Dry chillies': 13, 'Ginger': 15, 'Groundnut': 17, 'Maize': 24, 'Moong(Green Gram)': 27, 'Oilseeds total': 30, 'Other Kharif pulses': 34, 'other oilseeds': 54, 'Rapeseed &Mustard': 39, 'Rice': 40, 'Sesamum': 43, 'Sugarcane': 46, 'Sunflower': 47, 'Sweet potato': 48, 'Tapioca': 49, 'Turmeric': 51, 'Urad': 52, 'Bajra': 2, 'Castor seed': 8, 'Coriander': 10, 'Cotton(lint)': 11, 'Garlic': 14, 'Gram': 16, 'Guar seed': 18, 'Horse-gram': 19, 'Jowar': 20, 'Linseed': 23, 'Masoor': 25, 'Mesta': 26, 'Niger seed': 29, 'Onion': 31, 'Other  Rabi pulses': 32, 'Potato': 37, 'Ragi': 38, 'Safflower': 41, 'Sannhamp': 42, 'Small millets': 44, 'Soyabean': 45, 'Tobacco': 50, 'Wheat': 53, 'Peas & beans (Pulses)': 36, 'Jute': 21, 'Barley': 4, 'Khesari': 22, 'Moth': 28, 'Other Cereals': 33, 'Cardamom': 6, 'Other Summer Pulses': 35}\n",
            "{'Kharif     ': 1, 'Rabi       ': 2, 'Autumn     ': 0, 'Summer     ': 3, 'Whole Year ': 4, 'Winter     ': 5}\n"
          ]
        }
      ]
    },
    {
      "cell_type": "markdown",
      "source": [
        "**Final Model**\n",
        "\n",
        "---\n",
        "\n"
      ],
      "metadata": {
        "id": "NNZkBmbdocAK"
      }
    },
    {
      "cell_type": "code",
      "source": [
        "final_model=rf_model"
      ],
      "metadata": {
        "id": "FTU_855rbxRR"
      },
      "execution_count": 39,
      "outputs": []
    },
    {
      "cell_type": "markdown",
      "source": [
        "**Accuracy**\n",
        "\n",
        "---\n",
        "\n"
      ],
      "metadata": {
        "id": "Vyk5qU4bofy_"
      }
    },
    {
      "cell_type": "code",
      "source": [
        "accuracy_percentage = 100 - mae / np.mean(y_test) * 100\n",
        "print('Accuracy percentage: %.2f%%' % accuracy_percentage)"
      ],
      "metadata": {
        "colab": {
          "base_uri": "https://localhost:8080/"
        },
        "id": "OHyI82Ayf0xn",
        "outputId": "de90d45c-0df7-42c2-aef7-4cbdcbb559a8"
      },
      "execution_count": 41,
      "outputs": [
        {
          "output_type": "stream",
          "name": "stdout",
          "text": [
            "Accuracy percentage: 92.93%\n"
          ]
        }
      ]
    },
    {
      "cell_type": "markdown",
      "source": [
        "**Correlation**\n",
        "\n",
        "---\n",
        "\n"
      ],
      "metadata": {
        "id": "usPQLpCJok0g"
      }
    },
    {
      "cell_type": "code",
      "source": [
        "corr_with_target = data1.corr()['Yield'].sort_values(ascending=False)\n",
        "print(corr_with_target)"
      ],
      "metadata": {
        "colab": {
          "base_uri": "https://localhost:8080/"
        },
        "id": "8DjbwL22kPBH",
        "outputId": "c916b40e-2df0-4dc2-aab5-aa339a805bed"
      },
      "execution_count": 49,
      "outputs": [
        {
          "output_type": "stream",
          "name": "stdout",
          "text": [
            "Yield         1.000000\n",
            "Production    0.437376\n",
            "Season        0.129001\n",
            "District      0.012787\n",
            "Crop_Year     0.008563\n",
            "State         0.001948\n",
            "Area          0.000423\n",
            "Crop         -0.104679\n",
            "Name: Yield, dtype: float64\n"
          ]
        }
      ]
    },
    {
      "cell_type": "code",
      "source": [
        "corr_with_target = data1.corr()\n",
        "sns.heatmap(corr_with_target,annot=True)"
      ],
      "metadata": {
        "colab": {
          "base_uri": "https://localhost:8080/",
          "height": 329
        },
        "id": "czrJ0MFHl4nT",
        "outputId": "3fb8bfa3-c14d-4bf2-fcc2-0ab84100bf52"
      },
      "execution_count": 50,
      "outputs": [
        {
          "output_type": "execute_result",
          "data": {
            "text/plain": [
              "<Axes: >"
            ]
          },
          "metadata": {},
          "execution_count": 50
        },
        {
          "output_type": "display_data",
          "data": {
            "text/plain": [
              "<Figure size 432x288 with 2 Axes>"
            ],
            "image/png": "[encoded data removed]"
          },
          "metadata": {
            "needs_background": "light"
          }
        }
      ]
    },
    {
      "cell_type": "markdown",
      "source": [
        "**You came remove the columns that not correlated or weakly correlated with the target column while training.**"
      ],
      "metadata": {
        "id": "h0DNShv2oqFq"
      }
    }
  ],
  "metadata": {
    "colab": {
      "provenance": []
    },
    "kernelspec": {
      "display_name": "Python 3",
      "name": "python3"
    },
    "language_info": {
      "name": "python"
    }
  },
  "nbformat": 4,
  "nbformat_minor": 0
}